{
 "cells": [
  {
   "cell_type": "code",
   "execution_count": 1,
   "metadata": {
    "colab": {},
    "colab_type": "code",
    "id": "BhA_XM7I5dbq"
   },
   "outputs": [
    {
     "name": "stderr",
     "output_type": "stream",
     "text": [
      "Using TensorFlow backend.\n"
     ]
    }
   ],
   "source": [
    "# Import Libreary\n",
    "from keras.models import Sequential\n",
    "from keras.layers import Conv2D\n",
    "from keras.layers import MaxPooling2D\n",
    "from keras.layers import Flatten\n",
    "from keras.layers import Dense"
   ]
  },
  {
   "cell_type": "code",
   "execution_count": 14,
   "metadata": {
    "colab": {
     "base_uri": "https://localhost:8080/",
     "height": 34
    },
    "colab_type": "code",
    "id": "D1YIziqz8GjY",
    "outputId": "009cd3cd-6198-49f4-c886-5f1820e38147"
   },
   "outputs": [
    {
     "data": {
      "text/plain": [
       "''"
      ]
     },
     "execution_count": 14,
     "metadata": {
      "tags": []
     },
     "output_type": "execute_result"
    }
   ],
   "source": [
    "import tensorflow as tf \n",
    "tf.test.gpu_device_name() "
   ]
  },
  {
   "cell_type": "code",
   "execution_count": 15,
   "metadata": {
    "colab": {
     "base_uri": "https://localhost:8080/",
     "height": 34
    },
    "colab_type": "code",
    "id": "O5tAVt8l8PUb",
    "outputId": "1b8607f6-02dc-4fb5-9db3-8aa5627373c4"
   },
   "outputs": [
    {
     "name": "stdout",
     "output_type": "stream",
     "text": [
      "Connected to TPU\n"
     ]
    }
   ],
   "source": [
    "import os \n",
    "  \n",
    "if 'COLAB_TPU_ADDR' not in os.environ: \n",
    "  print('Not connected to TPU') \n",
    "else: \n",
    "  print(\"Connected to TPU\")"
   ]
  },
  {
   "cell_type": "code",
   "execution_count": 16,
   "metadata": {
    "colab": {
     "base_uri": "https://localhost:8080/",
     "height": 54
    },
    "colab_type": "code",
    "id": "7-S-moTZ5y-8",
    "outputId": "ac654d71-256c-4a3f-dee4-f6048fcb51d9"
   },
   "outputs": [
    {
     "name": "stdout",
     "output_type": "stream",
     "text": [
      "Drive already mounted at /content/drive; to attempt to forcibly remount, call drive.mount(\"/content/drive\", force_remount=True).\n"
     ]
    }
   ],
   "source": [
    "from google.colab import drive\n",
    "drive.mount('/content/drive')"
   ]
  },
  {
   "cell_type": "code",
   "execution_count": 13,
   "metadata": {
    "colab": {
     "base_uri": "https://localhost:8080/",
     "height": 34
    },
    "colab_type": "code",
    "id": "iH32DJPl7Q9q",
    "outputId": "0274b89a-3e42-417c-a3fd-21bb4228fb27"
   },
   "outputs": [
    {
     "name": "stdout",
     "output_type": "stream",
     "text": [
      "Num GPUs Available:  0\n"
     ]
    }
   ],
   "source": [
    "import tensorflow as tf\n",
    "print(\"Num GPUs Available: \", len(tf.config.experimental.list_physical_devices('TPU')))"
   ]
  },
  {
   "cell_type": "code",
   "execution_count": 17,
   "metadata": {
    "colab": {},
    "colab_type": "code",
    "id": "B79JigDk5db_"
   },
   "outputs": [],
   "source": [
    "# Initialising the CNN\n",
    "classifier = Sequential()\n",
    "\n",
    "# Step 1 - Convolution\n",
    "classifier.add(Conv2D(32, (3, 3), input_shape = (64, 64, 3), activation = 'relu'))\n",
    "\n",
    "# Step 2 - Pooling\n",
    "classifier.add(MaxPooling2D(pool_size = (2, 2)))\n"
   ]
  },
  {
   "cell_type": "code",
   "execution_count": 18,
   "metadata": {
    "colab": {},
    "colab_type": "code",
    "id": "e1BkRoSc5dcM"
   },
   "outputs": [],
   "source": [
    "# Step 3 - Flattening\n",
    "classifier.add(Flatten())\n",
    "\n",
    "# Step 4 - Full connection\n",
    "classifier.add(Dense(units = 128, activation = 'relu'))\n",
    "\n",
    "classifier.add(Dense(units = 6, activation = 'softmax'))"
   ]
  },
  {
   "cell_type": "code",
   "execution_count": 19,
   "metadata": {
    "colab": {},
    "colab_type": "code",
    "id": "zXd9OVK95dcU"
   },
   "outputs": [],
   "source": [
    "# Compiling the CNN\n",
    "classifier.compile(optimizer = 'adam', loss = 'binary_crossentropy', metrics = ['accuracy'])\n"
   ]
  },
  {
   "cell_type": "code",
   "execution_count": 4,
   "metadata": {
    "colab": {
     "base_uri": "https://localhost:8080/",
     "height": 51
    },
    "colab_type": "code",
    "id": "msmE0gp-5dcc",
    "outputId": "cce71d60-5f45-42fb-9f98-ab84af8fe95d"
   },
   "outputs": [
    {
     "name": "stdout",
     "output_type": "stream",
     "text": [
      "Found 299 images belonging to 6 classes.\n",
      "Found 95 images belonging to 6 classes.\n"
     ]
    }
   ],
   "source": [
    "# Part 2 - Fitting the CNN to the images\n",
    "\n",
    "from keras.preprocessing.image import ImageDataGenerator\n",
    "\n",
    "train_datagen = ImageDataGenerator(rescale = 1./255,\n",
    "                                   shear_range = 0.2,\n",
    "                                   zoom_range = 0.2,\n",
    "                                   horizontal_flip = True)\n",
    "test_datagen = ImageDataGenerator(rescale = 1./255)\n",
    "\n",
    "training_set = train_datagen.flow_from_directory('Train Images',\n",
    "                                                 target_size = (64, 64),\n",
    "                                                 batch_size = 32)\n",
    "\n",
    "test_set = test_datagen.flow_from_directory('Test Imags',\n",
    "                                            target_size = (64, 64),\n",
    "                                            batch_size = 32)\n"
   ]
  },
  {
   "cell_type": "code",
   "execution_count": 21,
   "metadata": {
    "colab": {
     "base_uri": "https://localhost:8080/",
     "height": 1000
    },
    "colab_type": "code",
    "id": "j2J7NzjU5dck",
    "outputId": "07e4d4e9-a374-47dd-a719-2f85cefc7128"
   },
   "outputs": [
    {
     "name": "stdout",
     "output_type": "stream",
     "text": [
      "Epoch 1/100\n",
      "  3/300 [..............................] - ETA: 55:40 - loss: 1.2173 - accuracy: 0.7674"
     ]
    },
    {
     "name": "stderr",
     "output_type": "stream",
     "text": [
      "/usr/local/lib/python3.6/dist-packages/PIL/Image.py:932: UserWarning: Palette images with Transparency expressed in bytes should be converted to RGBA images\n",
      "  \"Palette images with Transparency expressed in bytes should be \"\n"
     ]
    },
    {
     "name": "stdout",
     "output_type": "stream",
     "text": [
      "300/300 [==============================] - 253s 845ms/step - loss: 0.1992 - accuracy: 0.9289 - val_loss: 1.4723 - val_accuracy: 0.6913\n",
      "Epoch 2/100\n",
      "300/300 [==============================] - 156s 520ms/step - loss: 0.0301 - accuracy: 0.9924 - val_loss: 2.4524 - val_accuracy: 0.6823\n",
      "Epoch 3/100\n",
      "300/300 [==============================] - 154s 513ms/step - loss: 0.0139 - accuracy: 0.9965 - val_loss: 2.3041 - val_accuracy: 0.6841\n",
      "Epoch 4/100\n",
      "300/300 [==============================] - 153s 510ms/step - loss: 0.0060 - accuracy: 0.9988 - val_loss: 2.3705 - val_accuracy: 0.6789\n",
      "Epoch 5/100\n",
      "300/300 [==============================] - 159s 530ms/step - loss: 0.0032 - accuracy: 0.9996 - val_loss: 3.3062 - val_accuracy: 0.6821\n",
      "Epoch 6/100\n",
      "300/300 [==============================] - 154s 514ms/step - loss: 0.0056 - accuracy: 0.9986 - val_loss: 2.8720 - val_accuracy: 0.6809\n",
      "Epoch 7/100\n",
      "300/300 [==============================] - 153s 510ms/step - loss: 0.0014 - accuracy: 0.9998 - val_loss: 3.4949 - val_accuracy: 0.6771\n",
      "Epoch 8/100\n",
      "300/300 [==============================] - 152s 508ms/step - loss: 0.0046 - accuracy: 0.9985 - val_loss: 2.1730 - val_accuracy: 0.6880\n",
      "Epoch 9/100\n",
      "300/300 [==============================] - 154s 514ms/step - loss: 0.0041 - accuracy: 0.9990 - val_loss: 3.2518 - val_accuracy: 0.6841\n",
      "Epoch 10/100\n",
      "300/300 [==============================] - 155s 516ms/step - loss: 6.4380e-04 - accuracy: 0.9999 - val_loss: 3.4087 - val_accuracy: 0.6790\n",
      "Epoch 11/100\n",
      "300/300 [==============================] - 166s 554ms/step - loss: 3.5832e-04 - accuracy: 0.9999 - val_loss: 3.3859 - val_accuracy: 0.6841\n",
      "Epoch 12/100\n",
      "300/300 [==============================] - 165s 550ms/step - loss: 9.6991e-04 - accuracy: 0.9998 - val_loss: 3.2036 - val_accuracy: 0.6788\n",
      "Epoch 13/100\n",
      "300/300 [==============================] - 164s 547ms/step - loss: 6.3070e-04 - accuracy: 0.9999 - val_loss: 2.9664 - val_accuracy: 0.6789\n",
      "Epoch 14/100\n",
      "300/300 [==============================] - 159s 531ms/step - loss: 0.0103 - accuracy: 0.9968 - val_loss: 3.1433 - val_accuracy: 0.6843\n",
      "Epoch 15/100\n",
      "300/300 [==============================] - 161s 536ms/step - loss: 0.0035 - accuracy: 0.9991 - val_loss: 3.5301 - val_accuracy: 0.6823\n",
      "Epoch 16/100\n",
      "300/300 [==============================] - 158s 528ms/step - loss: 0.0047 - accuracy: 0.9983 - val_loss: 3.7149 - val_accuracy: 0.6790\n",
      "Epoch 17/100\n",
      "300/300 [==============================] - 158s 528ms/step - loss: 8.2840e-04 - accuracy: 0.9998 - val_loss: 3.5523 - val_accuracy: 0.6772\n",
      "Epoch 18/100\n",
      "300/300 [==============================] - 162s 539ms/step - loss: 1.1357e-04 - accuracy: 1.0000 - val_loss: 3.9265 - val_accuracy: 0.6841\n",
      "Epoch 19/100\n",
      "300/300 [==============================] - 157s 523ms/step - loss: 5.7287e-05 - accuracy: 1.0000 - val_loss: 3.4707 - val_accuracy: 0.6808\n",
      "Epoch 20/100\n",
      "300/300 [==============================] - 154s 513ms/step - loss: 9.5122e-05 - accuracy: 1.0000 - val_loss: 3.4404 - val_accuracy: 0.6842\n",
      "Epoch 21/100\n",
      "300/300 [==============================] - 152s 506ms/step - loss: 8.3069e-04 - accuracy: 0.9998 - val_loss: 3.8869 - val_accuracy: 0.6841\n",
      "Epoch 22/100\n",
      "300/300 [==============================] - 149s 497ms/step - loss: 0.0055 - accuracy: 0.9982 - val_loss: 3.7251 - val_accuracy: 0.6877\n",
      "Epoch 23/100\n",
      "300/300 [==============================] - 150s 501ms/step - loss: 6.5360e-04 - accuracy: 0.9998 - val_loss: 3.4073 - val_accuracy: 0.6808\n",
      "Epoch 24/100\n",
      "300/300 [==============================] - 154s 513ms/step - loss: 5.8043e-04 - accuracy: 0.9997 - val_loss: 3.5056 - val_accuracy: 0.6877\n",
      "Epoch 25/100\n",
      "300/300 [==============================] - 150s 500ms/step - loss: 0.0022 - accuracy: 0.9994 - val_loss: 3.7106 - val_accuracy: 0.6861\n",
      "Epoch 26/100\n",
      "300/300 [==============================] - 150s 500ms/step - loss: 1.7203e-04 - accuracy: 1.0000 - val_loss: 3.6771 - val_accuracy: 0.6807\n",
      "Epoch 27/100\n",
      "300/300 [==============================] - 150s 499ms/step - loss: 0.0026 - accuracy: 0.9992 - val_loss: 3.9135 - val_accuracy: 0.6858\n",
      "Epoch 28/100\n",
      "300/300 [==============================] - 152s 508ms/step - loss: 1.0731e-04 - accuracy: 1.0000 - val_loss: 3.7125 - val_accuracy: 0.6843\n",
      "Epoch 29/100\n",
      "300/300 [==============================] - 152s 507ms/step - loss: 5.3599e-05 - accuracy: 1.0000 - val_loss: 3.6485 - val_accuracy: 0.6840\n",
      "Epoch 30/100\n",
      "300/300 [==============================] - 150s 499ms/step - loss: 0.0065 - accuracy: 0.9983 - val_loss: 3.4829 - val_accuracy: 0.6948\n",
      "Epoch 31/100\n",
      "300/300 [==============================] - 151s 502ms/step - loss: 0.0022 - accuracy: 0.9993 - val_loss: 3.8066 - val_accuracy: 0.6948\n",
      "Epoch 32/100\n",
      "300/300 [==============================] - 151s 503ms/step - loss: 9.5965e-04 - accuracy: 0.9998 - val_loss: 3.6337 - val_accuracy: 0.6910\n",
      "Epoch 33/100\n",
      "300/300 [==============================] - 154s 513ms/step - loss: 1.2070e-04 - accuracy: 1.0000 - val_loss: 4.2156 - val_accuracy: 0.6913\n",
      "Epoch 34/100\n",
      "300/300 [==============================] - 152s 506ms/step - loss: 5.8275e-04 - accuracy: 0.9998 - val_loss: 4.1663 - val_accuracy: 0.6841\n",
      "Epoch 35/100\n",
      "300/300 [==============================] - 155s 518ms/step - loss: 3.7149e-05 - accuracy: 1.0000 - val_loss: 3.7103 - val_accuracy: 0.6843\n",
      "Epoch 36/100\n",
      "300/300 [==============================] - 159s 529ms/step - loss: 2.0909e-05 - accuracy: 1.0000 - val_loss: 3.8667 - val_accuracy: 0.6841\n",
      "Epoch 37/100\n",
      "300/300 [==============================] - 154s 512ms/step - loss: 1.4011e-05 - accuracy: 1.0000 - val_loss: 3.9454 - val_accuracy: 0.6841\n",
      "Epoch 38/100\n",
      "300/300 [==============================] - 153s 511ms/step - loss: 0.0033 - accuracy: 0.9990 - val_loss: 3.8417 - val_accuracy: 0.6929\n",
      "Epoch 39/100\n",
      "300/300 [==============================] - 154s 513ms/step - loss: 0.0016 - accuracy: 0.9996 - val_loss: 3.5518 - val_accuracy: 0.6878\n",
      "Epoch 40/100\n",
      "300/300 [==============================] - 165s 549ms/step - loss: 0.0034 - accuracy: 0.9990 - val_loss: 4.1567 - val_accuracy: 0.6930\n",
      "Epoch 41/100\n",
      "300/300 [==============================] - 161s 535ms/step - loss: 1.4492e-04 - accuracy: 1.0000 - val_loss: 4.3836 - val_accuracy: 0.6876\n",
      "Epoch 42/100\n",
      "300/300 [==============================] - 160s 533ms/step - loss: 0.0011 - accuracy: 0.9996 - val_loss: 4.0026 - val_accuracy: 0.6914\n",
      "Epoch 43/100\n",
      "300/300 [==============================] - 154s 515ms/step - loss: 6.7372e-04 - accuracy: 0.9998 - val_loss: 4.0747 - val_accuracy: 0.6876\n",
      "Epoch 44/100\n",
      "300/300 [==============================] - 156s 520ms/step - loss: 2.3007e-05 - accuracy: 1.0000 - val_loss: 3.7322 - val_accuracy: 0.6913\n",
      "Epoch 45/100\n",
      "300/300 [==============================] - 157s 522ms/step - loss: 4.9889e-04 - accuracy: 0.9997 - val_loss: 3.9446 - val_accuracy: 0.6860\n",
      "Epoch 46/100\n",
      "300/300 [==============================] - 156s 520ms/step - loss: 4.0556e-04 - accuracy: 0.9999 - val_loss: 4.1082 - val_accuracy: 0.6860\n",
      "Epoch 47/100\n",
      "300/300 [==============================] - 157s 524ms/step - loss: 1.6257e-05 - accuracy: 1.0000 - val_loss: 4.3374 - val_accuracy: 0.6841\n",
      "Epoch 48/100\n",
      "300/300 [==============================] - 155s 516ms/step - loss: 4.2693e-04 - accuracy: 0.9999 - val_loss: 3.6151 - val_accuracy: 0.6912\n",
      "Epoch 49/100\n",
      "300/300 [==============================] - 156s 520ms/step - loss: 3.3253e-05 - accuracy: 1.0000 - val_loss: 4.3190 - val_accuracy: 0.6911\n",
      "Epoch 50/100\n",
      "300/300 [==============================] - 156s 520ms/step - loss: 2.9289e-05 - accuracy: 1.0000 - val_loss: 4.1615 - val_accuracy: 0.6914\n",
      "Epoch 51/100\n",
      "300/300 [==============================] - 152s 508ms/step - loss: 0.0050 - accuracy: 0.9986 - val_loss: 4.3871 - val_accuracy: 0.6912\n",
      "Epoch 52/100\n",
      "300/300 [==============================] - 150s 499ms/step - loss: 9.6810e-05 - accuracy: 1.0000 - val_loss: 3.7445 - val_accuracy: 0.6825\n",
      "Epoch 53/100\n",
      "300/300 [==============================] - 152s 507ms/step - loss: 1.3903e-05 - accuracy: 1.0000 - val_loss: 3.7877 - val_accuracy: 0.6877\n",
      "Epoch 54/100\n",
      "300/300 [==============================] - 150s 500ms/step - loss: 2.5401e-05 - accuracy: 1.0000 - val_loss: 4.1012 - val_accuracy: 0.6824\n",
      "Epoch 55/100\n",
      "300/300 [==============================] - 150s 498ms/step - loss: 5.1735e-06 - accuracy: 1.0000 - val_loss: 3.7925 - val_accuracy: 0.6807\n",
      "Epoch 56/100\n",
      "300/300 [==============================] - 152s 508ms/step - loss: 2.2646e-05 - accuracy: 1.0000 - val_loss: 4.0947 - val_accuracy: 0.6877\n",
      "Epoch 57/100\n",
      "300/300 [==============================] - 151s 504ms/step - loss: 3.5656e-06 - accuracy: 1.0000 - val_loss: 3.8440 - val_accuracy: 0.6841\n",
      "Epoch 58/100\n",
      "300/300 [==============================] - 149s 497ms/step - loss: 9.6990e-06 - accuracy: 1.0000 - val_loss: 3.8829 - val_accuracy: 0.6913\n",
      "Epoch 59/100\n",
      "300/300 [==============================] - 147s 491ms/step - loss: 9.3374e-06 - accuracy: 1.0000 - val_loss: 4.0963 - val_accuracy: 0.6878\n",
      "Epoch 60/100\n",
      "300/300 [==============================] - 149s 497ms/step - loss: 4.5814e-06 - accuracy: 1.0000 - val_loss: 4.2430 - val_accuracy: 0.6893\n",
      "Epoch 61/100\n",
      "300/300 [==============================] - 148s 494ms/step - loss: 1.4957e-06 - accuracy: 1.0000 - val_loss: 3.8067 - val_accuracy: 0.6894\n",
      "Epoch 62/100\n",
      "300/300 [==============================] - 149s 497ms/step - loss: 1.0917e-06 - accuracy: 1.0000 - val_loss: 3.9938 - val_accuracy: 0.6931\n",
      "Epoch 63/100\n",
      "300/300 [==============================] - 149s 495ms/step - loss: 1.1175e-06 - accuracy: 1.0000 - val_loss: 4.2186 - val_accuracy: 0.6894\n",
      "Epoch 64/100\n",
      "300/300 [==============================] - 152s 506ms/step - loss: 9.9619e-07 - accuracy: 1.0000 - val_loss: 3.9084 - val_accuracy: 0.6912\n",
      "Epoch 65/100\n",
      "300/300 [==============================] - 149s 498ms/step - loss: 3.3206e-07 - accuracy: 1.0000 - val_loss: 4.0940 - val_accuracy: 0.6929\n",
      "Epoch 66/100\n",
      "300/300 [==============================] - 151s 502ms/step - loss: 6.5648e-07 - accuracy: 1.0000 - val_loss: 3.8042 - val_accuracy: 0.6930\n",
      "Epoch 67/100\n",
      "300/300 [==============================] - 152s 505ms/step - loss: 2.7809e-07 - accuracy: 1.0000 - val_loss: 4.1578 - val_accuracy: 0.6930\n",
      "Epoch 68/100\n",
      "300/300 [==============================] - 150s 501ms/step - loss: 3.2763e-07 - accuracy: 1.0000 - val_loss: 4.0200 - val_accuracy: 0.6927\n",
      "Epoch 69/100\n",
      "300/300 [==============================] - 151s 502ms/step - loss: 3.1262e-07 - accuracy: 1.0000 - val_loss: 4.1356 - val_accuracy: 0.6898\n",
      "Epoch 70/100\n",
      "300/300 [==============================] - 154s 514ms/step - loss: 1.8289e-07 - accuracy: 1.0000 - val_loss: 3.6642 - val_accuracy: 0.6915\n",
      "Epoch 71/100\n",
      "300/300 [==============================] - 150s 500ms/step - loss: 0.0120 - accuracy: 0.9971 - val_loss: 3.9815 - val_accuracy: 0.6874\n",
      "Epoch 72/100\n",
      "300/300 [==============================] - 153s 511ms/step - loss: 0.0010 - accuracy: 0.9996 - val_loss: 4.2424 - val_accuracy: 0.6842\n",
      "Epoch 73/100\n",
      "300/300 [==============================] - 153s 511ms/step - loss: 0.0015 - accuracy: 0.9997 - val_loss: 3.9010 - val_accuracy: 0.6914\n",
      "Epoch 74/100\n",
      "300/300 [==============================] - 163s 544ms/step - loss: 2.7950e-04 - accuracy: 0.9999 - val_loss: 4.3765 - val_accuracy: 0.6874\n",
      "Epoch 75/100\n",
      "300/300 [==============================] - 156s 519ms/step - loss: 6.6937e-05 - accuracy: 1.0000 - val_loss: 4.1172 - val_accuracy: 0.6879\n",
      "Epoch 76/100\n",
      "300/300 [==============================] - 151s 503ms/step - loss: 1.1504e-05 - accuracy: 1.0000 - val_loss: 4.4569 - val_accuracy: 0.6946\n",
      "Epoch 77/100\n",
      "300/300 [==============================] - 152s 506ms/step - loss: 8.1354e-04 - accuracy: 0.9998 - val_loss: 3.7996 - val_accuracy: 0.6985\n",
      "Epoch 78/100\n",
      "300/300 [==============================] - 152s 506ms/step - loss: 9.6003e-05 - accuracy: 1.0000 - val_loss: 4.0468 - val_accuracy: 0.6877\n",
      "Epoch 79/100\n",
      "300/300 [==============================] - 152s 506ms/step - loss: 1.3106e-05 - accuracy: 1.0000 - val_loss: 4.3916 - val_accuracy: 0.6912\n",
      "Epoch 80/100\n",
      "300/300 [==============================] - 152s 508ms/step - loss: 0.0026 - accuracy: 0.9994 - val_loss: 4.0308 - val_accuracy: 0.6878\n",
      "Epoch 81/100\n",
      "300/300 [==============================] - 156s 520ms/step - loss: 0.0018 - accuracy: 0.9994 - val_loss: 4.2544 - val_accuracy: 0.6875\n",
      "Epoch 82/100\n",
      "300/300 [==============================] - 154s 512ms/step - loss: 1.2520e-04 - accuracy: 1.0000 - val_loss: 4.3466 - val_accuracy: 0.6912\n",
      "Epoch 83/100\n",
      "300/300 [==============================] - 155s 518ms/step - loss: 1.3300e-05 - accuracy: 1.0000 - val_loss: 4.0669 - val_accuracy: 0.6876\n",
      "Epoch 84/100\n",
      "300/300 [==============================] - 152s 508ms/step - loss: 9.0482e-06 - accuracy: 1.0000 - val_loss: 3.9003 - val_accuracy: 0.6877\n",
      "Epoch 85/100\n",
      "300/300 [==============================] - 155s 518ms/step - loss: 8.7406e-06 - accuracy: 1.0000 - val_loss: 3.9722 - val_accuracy: 0.6879\n",
      "Epoch 86/100\n",
      "300/300 [==============================] - 155s 515ms/step - loss: 2.8395e-04 - accuracy: 0.9999 - val_loss: 4.4315 - val_accuracy: 0.6877\n",
      "Epoch 87/100\n",
      "300/300 [==============================] - 153s 511ms/step - loss: 4.0738e-04 - accuracy: 0.9999 - val_loss: 4.1476 - val_accuracy: 0.6876\n",
      "Epoch 88/100\n",
      "300/300 [==============================] - 152s 506ms/step - loss: 0.0047 - accuracy: 0.9988 - val_loss: 3.9714 - val_accuracy: 0.6913\n",
      "Epoch 89/100\n",
      "300/300 [==============================] - 153s 511ms/step - loss: 0.0024 - accuracy: 0.9995 - val_loss: 3.7848 - val_accuracy: 0.6913\n",
      "Epoch 90/100\n",
      "300/300 [==============================] - 159s 529ms/step - loss: 3.7622e-05 - accuracy: 1.0000 - val_loss: 4.1708 - val_accuracy: 0.6911\n",
      "Epoch 91/100\n",
      "300/300 [==============================] - 151s 503ms/step - loss: 2.4974e-05 - accuracy: 1.0000 - val_loss: 4.4050 - val_accuracy: 0.6911\n",
      "Epoch 92/100\n",
      "300/300 [==============================] - 151s 503ms/step - loss: 6.9651e-04 - accuracy: 0.9999 - val_loss: 4.0407 - val_accuracy: 0.6878\n",
      "Epoch 93/100\n",
      "300/300 [==============================] - 152s 507ms/step - loss: 1.2402e-05 - accuracy: 1.0000 - val_loss: 4.1140 - val_accuracy: 0.6877\n",
      "Epoch 94/100\n",
      "300/300 [==============================] - 156s 521ms/step - loss: 1.5375e-04 - accuracy: 0.9999 - val_loss: 4.1651 - val_accuracy: 0.6860\n",
      "Epoch 95/100\n",
      "300/300 [==============================] - 155s 516ms/step - loss: 2.4981e-05 - accuracy: 1.0000 - val_loss: 4.3234 - val_accuracy: 0.6877\n",
      "Epoch 96/100\n",
      "300/300 [==============================] - 152s 507ms/step - loss: 3.1335e-06 - accuracy: 1.0000 - val_loss: 3.7306 - val_accuracy: 0.6877\n",
      "Epoch 97/100\n",
      "300/300 [==============================] - 156s 520ms/step - loss: 6.7085e-06 - accuracy: 1.0000 - val_loss: 4.3384 - val_accuracy: 0.6893\n",
      "Epoch 98/100\n",
      "300/300 [==============================] - 157s 522ms/step - loss: 2.3409e-06 - accuracy: 1.0000 - val_loss: 4.1464 - val_accuracy: 0.6897\n",
      "Epoch 99/100\n",
      "300/300 [==============================] - 152s 508ms/step - loss: 2.0192e-06 - accuracy: 1.0000 - val_loss: 4.5229 - val_accuracy: 0.6876\n",
      "Epoch 100/100\n",
      "300/300 [==============================] - 150s 500ms/step - loss: 1.1291e-06 - accuracy: 1.0000 - val_loss: 3.8834 - val_accuracy: 0.6878\n",
      "Saved model to disk\n"
     ]
    }
   ],
   "source": [
    "model = classifier.fit_generator(training_set,\n",
    "                         steps_per_epoch = 300,\n",
    "                         epochs = 100,\n",
    "                         validation_data = test_set,    \n",
    "                         validation_steps = 100)\n",
    "\n",
    "classifier.save(\"model.h5\")\n",
    "print(\"Saved model to disk\")"
   ]
  },
  {
   "cell_type": "code",
   "execution_count": 2,
   "metadata": {},
   "outputs": [
    {
     "name": "stdout",
     "output_type": "stream",
     "text": [
      "Model: \"sequential_2\"\n",
      "_________________________________________________________________\n",
      "Layer (type)                 Output Shape              Param #   \n",
      "=================================================================\n",
      "conv2d_2 (Conv2D)            (None, 62, 62, 32)        896       \n",
      "_________________________________________________________________\n",
      "max_pooling2d_2 (MaxPooling2 (None, 31, 31, 32)        0         \n",
      "_________________________________________________________________\n",
      "flatten_2 (Flatten)          (None, 30752)             0         \n",
      "_________________________________________________________________\n",
      "dense_3 (Dense)              (None, 128)               3936384   \n",
      "_________________________________________________________________\n",
      "dense_4 (Dense)              (None, 6)                 774       \n",
      "=================================================================\n",
      "Total params: 3,938,054\n",
      "Trainable params: 3,938,054\n",
      "Non-trainable params: 0\n",
      "_________________________________________________________________\n"
     ]
    }
   ],
   "source": [
    "from numpy import loadtxt\n",
    "from keras.models import load_model\n",
    " \n",
    "# load model\n",
    "model = load_model('model.h5')\n",
    "# summarize model.\n",
    "model.summary()"
   ]
  },
  {
   "cell_type": "code",
   "execution_count": 5,
   "metadata": {
    "colab": {
     "base_uri": "https://localhost:8080/",
     "height": 231
    },
    "colab_type": "code",
    "id": "Acc9grEV5dcs",
    "outputId": "fe93a26f-e0a9-4471-b9f3-2b574afd2c4d"
   },
   "outputs": [
    {
     "name": "stdout",
     "output_type": "stream",
     "text": [
      "mouse\n"
     ]
    }
   ],
   "source": [
    "# Part 3 - Making new predictions\n",
    "import numpy as np\n",
    "from keras.preprocessing import image\n",
    "test_image = image.load_img('Mouse.jpg', target_size = (64, 64))\n",
    "test_image = image.img_to_array(test_image)\n",
    "test_image = np.expand_dims(test_image, axis = 0)\n",
    "result = model.predict(test_image)\n",
    "training_set.class_indices\n",
    "\n",
    "if result[0][0] == 1:\n",
    "    prediction = 'keybord'\n",
    "    print(prediction)\n",
    "\n",
    "elif result[0][1] == 1:\n",
    "    prediction = 'monitor'\n",
    "    print(prediction)\n",
    "\n",
    "elif result[0][2] == 1:\n",
    "    prediction = 'mouse'\n",
    "    print(prediction)\n",
    "\n",
    "elif result[0][3] == 1:\n",
    "    prediction = 'processor'\n",
    "    print(prediction)\n",
    "\n",
    "elif result[0][4] == 1:\n",
    "    prediction = 'SSD'\n",
    "    print(prediction)\n",
    "\n",
    "else:\n",
    "    prediction = 'Webcam'\n",
    "    print(prediction)"
   ]
  },
  {
   "cell_type": "code",
   "execution_count": null,
   "metadata": {
    "colab": {},
    "colab_type": "code",
    "id": "GGe3AyKQ4smh"
   },
   "outputs": [],
   "source": [
    "result[0]"
   ]
  },
  {
   "cell_type": "code",
   "execution_count": null,
   "metadata": {},
   "outputs": [],
   "source": []
  }
 ],
 "metadata": {
  "accelerator": "TPU",
  "colab": {
   "name": "Computer Parts Classification model.ipynb",
   "provenance": []
  },
  "kernelspec": {
   "display_name": "Python 3",
   "language": "python",
   "name": "python3"
  },
  "language_info": {
   "codemirror_mode": {
    "name": "ipython",
    "version": 3
   },
   "file_extension": ".py",
   "mimetype": "text/x-python",
   "name": "python",
   "nbconvert_exporter": "python",
   "pygments_lexer": "ipython3",
   "version": "3.7.6"
  }
 },
 "nbformat": 4,
 "nbformat_minor": 1
}
